{
  "nbformat": 4,
  "nbformat_minor": 0,
  "metadata": {
    "colab": {
      "name": "NLP_Sarcastic_Review_BiDirectionalNLP.ipynb",
      "provenance": [],
      "collapsed_sections": []
    },
    "kernelspec": {
      "name": "python3",
      "display_name": "Python 3"
    },
    "language_info": {
      "name": "python"
    }
  },
  "cells": [
    {
      "cell_type": "code",
      "metadata": {
        "colab": {
          "base_uri": "https://localhost:8080/",
          "height": 35
        },
        "id": "Osv5gCt6Y2hM",
        "outputId": "4f43a122-2cdf-47d7-823c-29a85396ef49"
      },
      "source": [
        "%tensorflow_version 2.x\n",
        "import tensorflow\n",
        "tensorflow.__version__"
      ],
      "execution_count": 1,
      "outputs": [
        {
          "output_type": "execute_result",
          "data": {
            "application/vnd.google.colaboratory.intrinsic+json": {
              "type": "string"
            },
            "text/plain": [
              "'2.4.1'"
            ]
          },
          "metadata": {
            "tags": []
          },
          "execution_count": 1
        }
      ]
    },
    {
      "cell_type": "code",
      "metadata": {
        "id": "fAlXBA64cKhw",
        "colab": {
          "base_uri": "https://localhost:8080/"
        },
        "outputId": "8eb8f2f3-5fe2-4120-aa78-5e449cffb65d"
      },
      "source": [
        "from google.colab import drive\n",
        "drive.mount('/content/gdrive')"
      ],
      "execution_count": 2,
      "outputs": [
        {
          "output_type": "stream",
          "text": [
            "Mounted at /content/gdrive\n"
          ],
          "name": "stdout"
        }
      ]
    },
    {
      "cell_type": "code",
      "metadata": {
        "id": "CR724vFLelvM"
      },
      "source": [
        "import numpy as np \n",
        "import pandas as pd "
      ],
      "execution_count": 40,
      "outputs": []
    },
    {
      "cell_type": "code",
      "metadata": {
        "colab": {
          "base_uri": "https://localhost:8080/",
          "height": 204
        },
        "id": "4IBsrbZjfIzD",
        "outputId": "29bb7e9f-5079-4d33-eb7a-a5cb9c65fd70"
      },
      "source": [
        "copied_path = \"/content/gdrive/MyDrive/AIML/projects/NLPSarcasticReview/Sarcasm_Headlines_Dataset.json\" \n",
        "\n",
        "df = pd.read_json(copied_path, lines=True)\n",
        "df.head()"
      ],
      "execution_count": 41,
      "outputs": [
        {
          "output_type": "execute_result",
          "data": {
            "text/html": [
              "<div>\n",
              "<style scoped>\n",
              "    .dataframe tbody tr th:only-of-type {\n",
              "        vertical-align: middle;\n",
              "    }\n",
              "\n",
              "    .dataframe tbody tr th {\n",
              "        vertical-align: top;\n",
              "    }\n",
              "\n",
              "    .dataframe thead th {\n",
              "        text-align: right;\n",
              "    }\n",
              "</style>\n",
              "<table border=\"1\" class=\"dataframe\">\n",
              "  <thead>\n",
              "    <tr style=\"text-align: right;\">\n",
              "      <th></th>\n",
              "      <th>is_sarcastic</th>\n",
              "      <th>headline</th>\n",
              "      <th>article_link</th>\n",
              "    </tr>\n",
              "  </thead>\n",
              "  <tbody>\n",
              "    <tr>\n",
              "      <th>0</th>\n",
              "      <td>1</td>\n",
              "      <td>thirtysomething scientists unveil doomsday clo...</td>\n",
              "      <td>https://www.theonion.com/thirtysomething-scien...</td>\n",
              "    </tr>\n",
              "    <tr>\n",
              "      <th>1</th>\n",
              "      <td>0</td>\n",
              "      <td>dem rep. totally nails why congress is falling...</td>\n",
              "      <td>https://www.huffingtonpost.com/entry/donna-edw...</td>\n",
              "    </tr>\n",
              "    <tr>\n",
              "      <th>2</th>\n",
              "      <td>0</td>\n",
              "      <td>eat your veggies: 9 deliciously different recipes</td>\n",
              "      <td>https://www.huffingtonpost.com/entry/eat-your-...</td>\n",
              "    </tr>\n",
              "    <tr>\n",
              "      <th>3</th>\n",
              "      <td>1</td>\n",
              "      <td>inclement weather prevents liar from getting t...</td>\n",
              "      <td>https://local.theonion.com/inclement-weather-p...</td>\n",
              "    </tr>\n",
              "    <tr>\n",
              "      <th>4</th>\n",
              "      <td>1</td>\n",
              "      <td>mother comes pretty close to using word 'strea...</td>\n",
              "      <td>https://www.theonion.com/mother-comes-pretty-c...</td>\n",
              "    </tr>\n",
              "  </tbody>\n",
              "</table>\n",
              "</div>"
            ],
            "text/plain": [
              "   is_sarcastic  ...                                       article_link\n",
              "0             1  ...  https://www.theonion.com/thirtysomething-scien...\n",
              "1             0  ...  https://www.huffingtonpost.com/entry/donna-edw...\n",
              "2             0  ...  https://www.huffingtonpost.com/entry/eat-your-...\n",
              "3             1  ...  https://local.theonion.com/inclement-weather-p...\n",
              "4             1  ...  https://www.theonion.com/mother-comes-pretty-c...\n",
              "\n",
              "[5 rows x 3 columns]"
            ]
          },
          "metadata": {
            "tags": []
          },
          "execution_count": 41
        }
      ]
    },
    {
      "cell_type": "code",
      "metadata": {
        "colab": {
          "base_uri": "https://localhost:8080/"
        },
        "id": "13n30M-JfJBn",
        "outputId": "c80eb39a-30f3-4dd7-d009-bff26ee27518"
      },
      "source": [
        "df.info()\n"
      ],
      "execution_count": 42,
      "outputs": [
        {
          "output_type": "stream",
          "text": [
            "<class 'pandas.core.frame.DataFrame'>\n",
            "RangeIndex: 28619 entries, 0 to 28618\n",
            "Data columns (total 3 columns):\n",
            " #   Column        Non-Null Count  Dtype \n",
            "---  ------        --------------  ----- \n",
            " 0   is_sarcastic  28619 non-null  int64 \n",
            " 1   headline      28619 non-null  object\n",
            " 2   article_link  28619 non-null  object\n",
            "dtypes: int64(1), object(2)\n",
            "memory usage: 670.9+ KB\n"
          ],
          "name": "stdout"
        }
      ]
    },
    {
      "cell_type": "code",
      "metadata": {
        "colab": {
          "base_uri": "https://localhost:8080/",
          "height": 334
        },
        "id": "OePERyRIfJPl",
        "outputId": "1e725754-c849-4bdf-c8c8-f745d3927a16"
      },
      "source": [
        "#EDA\n",
        "import matplotlib.pyplot as plt \n",
        "import seaborn as sns\n",
        "sns.countplot(df.is_sarcastic)\n",
        "plt.show()"
      ],
      "execution_count": 43,
      "outputs": [
        {
          "output_type": "stream",
          "text": [
            "/usr/local/lib/python3.7/dist-packages/seaborn/_decorators.py:43: FutureWarning: Pass the following variable as a keyword arg: x. From version 0.12, the only valid positional argument will be `data`, and passing other arguments without an explicit keyword will result in an error or misinterpretation.\n",
            "  FutureWarning\n"
          ],
          "name": "stderr"
        },
        {
          "output_type": "display_data",
          "data": {
            "image/png": "[encoded data removed]",
            "text/plain": [
              "<Figure size 432x288 with 1 Axes>"
            ]
          },
          "metadata": {
            "tags": [],
            "needs_background": "light"
          }
        }
      ]
    },
    {
      "cell_type": "code",
      "metadata": {
        "id": "BaTbyn_Ph3nZ"
      },
      "source": [
        ""
      ],
      "execution_count": 43,
      "outputs": []
    },
    {
      "cell_type": "code",
      "metadata": {
        "id": "kz2NFmu2h3ps"
      },
      "source": [
        "import tensorflow as tf \n",
        "from tensorflow.keras.preprocessing.text import Tokenizer \n",
        "from tensorflow.keras.preprocessing.sequence import pad_sequences \n",
        "\n",
        "\n",
        "import tensorflow.keras.layers as L \n",
        "from tensorflow.keras.losses import SparseCategoricalCrossentropy \n",
        "from tensorflow.keras.optimizers import Adam \n",
        "\n",
        "from sklearn.model_selection import train_test_split \n",
        "from sklearn.metrics import confusion_matrix \n",
        "from sklearn.metrics  import classification_report \n",
        "\n",
        "import nltk \n",
        "from nltk.stem.porter import PorterStemmer \n",
        "from nltk.tokenize import TweetTokenizer, word_tokenize \n",
        "from nltk.corpus import stopwords \n",
        "\n",
        "import re"
      ],
      "execution_count": 44,
      "outputs": []
    },
    {
      "cell_type": "code",
      "metadata": {
        "id": "p7SlCy2Sh3tR"
      },
      "source": [
        "# DATA PREOPROCESSING \n",
        "\n",
        "X = df['headline']\n",
        "y = df['is_sarcastic']"
      ],
      "execution_count": 45,
      "outputs": []
    },
    {
      "cell_type": "code",
      "metadata": {
        "id": "-EZUMvaSh31M"
      },
      "source": [
        ""
      ],
      "execution_count": 45,
      "outputs": []
    },
    {
      "cell_type": "code",
      "metadata": {
        "colab": {
          "base_uri": "https://localhost:8080/"
        },
        "id": "u7DzNJH_h338",
        "outputId": "13bf7e84-4966-468b-cc45-1a32cd98804a"
      },
      "source": [
        "nltk.download('stopwords')\n",
        "stop_words = stopwords.words('english')\n",
        "\n",
        "\n",
        "def data_cleaner(headline):\n",
        "    # remove url \n",
        "    headline = re.sub(r'http\\S+', '', headline)\n",
        "    \n",
        "    # remove html tags \n",
        "    headline = re.sub(r'<.*?>+', '', headline)\n",
        "\n",
        "    \n",
        "    headline = re.sub(r'\\d+', '', headline)\n",
        "    \n",
        "    headline = re.sub(r'#\\w+', '', headline)\n",
        "    \n",
        "    headline = re.sub(r'@\\w+' ,'', headline)\n",
        "\n",
        "    \n",
        "    # removing stop words \n",
        "    headline = headline.split()\n",
        "    headline = \" \".join([word for word in headline if not word in stop_words])\n",
        "    \n",
        "    return headline"
      ],
      "execution_count": 46,
      "outputs": [
        {
          "output_type": "stream",
          "text": [
            "[nltk_data] Downloading package stopwords to /root/nltk_data...\n",
            "[nltk_data]   Package stopwords is already up-to-date!\n"
          ],
          "name": "stdout"
        }
      ]
    },
    {
      "cell_type": "code",
      "metadata": {
        "colab": {
          "base_uri": "https://localhost:8080/"
        },
        "id": "VMu8sClGh36K",
        "outputId": "cb6844ec-f0bb-4761-8057-aad0bf13c023"
      },
      "source": [
        "X_cleaned = X.apply(data_cleaner)\n",
        "X_cleaned.head()"
      ],
      "execution_count": 47,
      "outputs": [
        {
          "output_type": "execute_result",
          "data": {
            "text/plain": [
              "0    thirtysomething scientists unveil doomsday clo...\n",
              "1    dem rep. totally nails congress falling short ...\n",
              "2           eat veggies: deliciously different recipes\n",
              "3         inclement weather prevents liar getting work\n",
              "4    mother comes pretty close using word 'streamin...\n",
              "Name: headline, dtype: object"
            ]
          },
          "metadata": {
            "tags": []
          },
          "execution_count": 47
        }
      ]
    },
    {
      "cell_type": "code",
      "metadata": {
        "colab": {
          "base_uri": "https://localhost:8080/"
        },
        "id": "VKLOdXUlh39v",
        "outputId": "a3e2a5d1-a778-419e-c756-8a3cef9733b5"
      },
      "source": [
        "X.head()"
      ],
      "execution_count": 48,
      "outputs": [
        {
          "output_type": "execute_result",
          "data": {
            "text/plain": [
              "0    thirtysomething scientists unveil doomsday clo...\n",
              "1    dem rep. totally nails why congress is falling...\n",
              "2    eat your veggies: 9 deliciously different recipes\n",
              "3    inclement weather prevents liar from getting t...\n",
              "4    mother comes pretty close to using word 'strea...\n",
              "Name: headline, dtype: object"
            ]
          },
          "metadata": {
            "tags": []
          },
          "execution_count": 48
        }
      ]
    },
    {
      "cell_type": "code",
      "metadata": {
        "colab": {
          "base_uri": "https://localhost:8080/"
        },
        "id": "yx12uMPVjqgS",
        "outputId": "4ff6238a-62b6-41bf-f46a-809acef31a89"
      },
      "source": [
        "X.shape"
      ],
      "execution_count": 49,
      "outputs": [
        {
          "output_type": "execute_result",
          "data": {
            "text/plain": [
              "(28619,)"
            ]
          },
          "metadata": {
            "tags": []
          },
          "execution_count": 49
        }
      ]
    },
    {
      "cell_type": "code",
      "metadata": {
        "colab": {
          "base_uri": "https://localhost:8080/"
        },
        "id": "D-rOgx2BjrT5",
        "outputId": "feda55aa-68c9-48fe-95f8-85ed243bfa9d"
      },
      "source": [
        "tokenizer = Tokenizer()\n",
        "tokenizer.fit_on_texts(X_cleaned)\n",
        "\n",
        "X = tokenizer.texts_to_sequences(X_cleaned)\n",
        "\n",
        "vocab_size = len(tokenizer.word_index)+1\n",
        "\n",
        "print(\"Vocab size {}\".format(vocab_size))\n",
        "print(\"\\nExample: \\n\")\n",
        "print(\"Sentence : \\n{}\".format(X_cleaned[50]))\n",
        "print(\"\\nAfter the tokenizing: \\n{}\".format(X[50]))\n",
        "\n",
        "X = pad_sequences(X, padding='post')\n",
        "print(\"\\nAfter padding :\\n {}\".format(X[50]))\n",
        "print(\"\\nX shape after padding :\\n {}\".format(X.shape))\n"
      ],
      "execution_count": 50,
      "outputs": [
        {
          "output_type": "stream",
          "text": [
            "Vocab size 30275\n",
            "\n",
            "Example: \n",
            "\n",
            "Sentence : \n",
            "lgbt christians speak out: \"love sinner, hate sin\" cut anymore\n",
            "\n",
            "After the tokenizing: \n",
            "[710, 4898, 1060, 564, 73, 11192, 552, 7267, 674, 1353]\n",
            "\n",
            "After padding :\n",
            " [  710  4898  1060   564    73 11192   552  7267   674  1353     0     0\n",
            "     0     0     0     0     0     0     0     0     0     0     0     0\n",
            "     0     0     0     0     0     0     0     0     0     0     0     0\n",
            "     0     0     0     0     0     0     0     0     0     0     0     0\n",
            "     0     0     0     0     0     0     0     0     0     0     0     0\n",
            "     0     0     0     0     0     0     0     0     0     0     0     0\n",
            "     0     0     0     0     0     0     0     0     0     0     0     0\n",
            "     0     0     0     0     0     0     0     0     0     0     0     0\n",
            "     0     0     0     0     0     0     0     0     0     0     0]\n",
            "\n",
            "X shape after padding :\n",
            " (28619, 107)\n"
          ],
          "name": "stdout"
        }
      ]
    },
    {
      "cell_type": "code",
      "metadata": {
        "colab": {
          "base_uri": "https://localhost:8080/"
        },
        "id": "Jp9aHLNojrWY",
        "outputId": "bda0261d-06e2-4787-9a10-d96b3eba9037"
      },
      "source": [
        "embedding_dim = 16\n",
        "max_length = X.shape[1]\n",
        "print(\"\\max_length :\\n {}\".format(max_length))"
      ],
      "execution_count": 51,
      "outputs": [
        {
          "output_type": "stream",
          "text": [
            "\\max_length :\n",
            " 107\n"
          ],
          "name": "stdout"
        }
      ]
    },
    {
      "cell_type": "code",
      "metadata": {
        "id": "lzt9AKyHxZ2I"
      },
      "source": [
        "# Modeling Building and training \n",
        "tf.keras.backend.clear_session()"
      ],
      "execution_count": 52,
      "outputs": []
    },
    {
      "cell_type": "markdown",
      "metadata": {
        "id": "ORDUFehqHNDU"
      },
      "source": [
        "#Bidirectional GATED RECURRENT UNIT (GRU)"
      ]
    },
    {
      "cell_type": "code",
      "metadata": {
        "id": "pbeaxkKvHJk3"
      },
      "source": [
        "#Building the GRU Model\n",
        "model_gru = tf.keras.Sequential([\n",
        "    tf.keras.layers.Embedding(vocab_size, embedding_dim, input_length=max_length),\n",
        "    tf.keras.layers.Bidirectional(tf.keras.layers.GRU(16)),\n",
        "    tf.keras.layers.Dense(6, activation='relu'),\n",
        "    tf.keras.layers.Dense(1, activation='sigmoid')\n",
        "])"
      ],
      "execution_count": 53,
      "outputs": []
    },
    {
      "cell_type": "code",
      "metadata": {
        "colab": {
          "base_uri": "https://localhost:8080/"
        },
        "id": "3Q1OL_1AHJwQ",
        "outputId": "9a6183df-4e2a-475b-dff9-83fd2e2ce74b"
      },
      "source": [
        "model_gru.summary()"
      ],
      "execution_count": 54,
      "outputs": [
        {
          "output_type": "stream",
          "text": [
            "Model: \"sequential\"\n",
            "_________________________________________________________________\n",
            "Layer (type)                 Output Shape              Param #   \n",
            "=================================================================\n",
            "embedding (Embedding)        (None, 107, 16)           484400    \n",
            "_________________________________________________________________\n",
            "bidirectional (Bidirectional (None, 32)                3264      \n",
            "_________________________________________________________________\n",
            "dense (Dense)                (None, 6)                 198       \n",
            "_________________________________________________________________\n",
            "dense_1 (Dense)              (None, 1)                 7         \n",
            "=================================================================\n",
            "Total params: 487,869\n",
            "Trainable params: 487,869\n",
            "Non-trainable params: 0\n",
            "_________________________________________________________________\n"
          ],
          "name": "stdout"
        }
      ]
    },
    {
      "cell_type": "code",
      "metadata": {
        "colab": {
          "base_uri": "https://localhost:8080/"
        },
        "id": "XLJpjGHJHJyw",
        "outputId": "a18f78ae-66cb-484d-caed-bd6105a96b68"
      },
      "source": [
        "\n",
        "\n",
        "\n",
        "model_gru.compile(loss='binary_crossentropy',optimizer='adam',metrics=['accuracy'])\n",
        "num_epochs = 20\n",
        "batch_size=1000\n",
        "\n",
        "training_history = model_gru.fit(X, y, epochs=num_epochs, validation_split=0.2, \n",
        "                            batch_size=batch_size)"
      ],
      "execution_count": 55,
      "outputs": [
        {
          "output_type": "stream",
          "text": [
            "Epoch 1/20\n",
            "23/23 [==============================] - 12s 291ms/step - loss: 0.6903 - accuracy: 0.5285 - val_loss: 0.6813 - val_accuracy: 0.5653\n",
            "Epoch 2/20\n",
            "23/23 [==============================] - 6s 254ms/step - loss: 0.6713 - accuracy: 0.6561 - val_loss: 0.6448 - val_accuracy: 0.7194\n",
            "Epoch 3/20\n",
            "23/23 [==============================] - 6s 253ms/step - loss: 0.6060 - accuracy: 0.7935 - val_loss: 0.5427 - val_accuracy: 0.7745\n",
            "Epoch 4/20\n",
            "23/23 [==============================] - 6s 252ms/step - loss: 0.4416 - accuracy: 0.8581 - val_loss: 0.4318 - val_accuracy: 0.7937\n",
            "Epoch 5/20\n",
            "23/23 [==============================] - 6s 254ms/step - loss: 0.2737 - accuracy: 0.8951 - val_loss: 0.4104 - val_accuracy: 0.8087\n",
            "Epoch 6/20\n",
            "23/23 [==============================] - 6s 253ms/step - loss: 0.1901 - accuracy: 0.9328 - val_loss: 0.4199 - val_accuracy: 0.8134\n",
            "Epoch 7/20\n",
            "23/23 [==============================] - 6s 253ms/step - loss: 0.1396 - accuracy: 0.9539 - val_loss: 0.4551 - val_accuracy: 0.8103\n",
            "Epoch 8/20\n",
            "23/23 [==============================] - 6s 252ms/step - loss: 0.1018 - accuracy: 0.9684 - val_loss: 0.4933 - val_accuracy: 0.8080\n",
            "Epoch 9/20\n",
            "23/23 [==============================] - 6s 255ms/step - loss: 0.0735 - accuracy: 0.9810 - val_loss: 0.5379 - val_accuracy: 0.8033\n",
            "Epoch 10/20\n",
            "23/23 [==============================] - 6s 251ms/step - loss: 0.0548 - accuracy: 0.9874 - val_loss: 0.5848 - val_accuracy: 0.8003\n",
            "Epoch 11/20\n",
            "23/23 [==============================] - 6s 249ms/step - loss: 0.0474 - accuracy: 0.9888 - val_loss: 0.6208 - val_accuracy: 0.7970\n",
            "Epoch 12/20\n",
            "23/23 [==============================] - 6s 253ms/step - loss: 0.0346 - accuracy: 0.9925 - val_loss: 0.6761 - val_accuracy: 0.7949\n",
            "Epoch 13/20\n",
            "23/23 [==============================] - 6s 252ms/step - loss: 0.0287 - accuracy: 0.9948 - val_loss: 0.7191 - val_accuracy: 0.7923\n",
            "Epoch 14/20\n",
            "23/23 [==============================] - 6s 251ms/step - loss: 0.0227 - accuracy: 0.9965 - val_loss: 0.7670 - val_accuracy: 0.7900\n",
            "Epoch 15/20\n",
            "23/23 [==============================] - 6s 252ms/step - loss: 0.0182 - accuracy: 0.9970 - val_loss: 0.8143 - val_accuracy: 0.7856\n",
            "Epoch 16/20\n",
            "23/23 [==============================] - 6s 252ms/step - loss: 0.0142 - accuracy: 0.9982 - val_loss: 0.8503 - val_accuracy: 0.7863\n",
            "Epoch 17/20\n",
            "23/23 [==============================] - 6s 253ms/step - loss: 0.0116 - accuracy: 0.9991 - val_loss: 0.8877 - val_accuracy: 0.7844\n",
            "Epoch 18/20\n",
            "23/23 [==============================] - 6s 254ms/step - loss: 0.0113 - accuracy: 0.9987 - val_loss: 0.9166 - val_accuracy: 0.7835\n",
            "Epoch 19/20\n",
            "23/23 [==============================] - 6s 254ms/step - loss: 0.0083 - accuracy: 0.9992 - val_loss: 0.9560 - val_accuracy: 0.7807\n",
            "Epoch 20/20\n",
            "23/23 [==============================] - 6s 252ms/step - loss: 0.0089 - accuracy: 0.9991 - val_loss: 0.9836 - val_accuracy: 0.7811\n"
          ],
          "name": "stdout"
        }
      ]
    },
    {
      "cell_type": "code",
      "metadata": {
        "colab": {
          "base_uri": "https://localhost:8080/",
          "height": 513
        },
        "id": "A0Sndf4zHJ1R",
        "outputId": "3d297dbb-1961-40a6-f179-dcc137182344"
      },
      "source": [
        "#Evaluating Accuracy and Loss of the model\n",
        "%matplotlib inline\n",
        "acc=training_history.history['accuracy']\n",
        "val_acc=training_history.history['val_accuracy']\n",
        "loss=training_history.history['loss']\n",
        "val_loss=training_history.history['val_loss']\n",
        "\n",
        "epochs=range(len(acc)) #No. of epochs\n",
        "\n",
        "#Plot training and validation accuracy per epoch\n",
        "import matplotlib.pyplot as plt\n",
        "plt.plot(epochs,acc,'r',label='Training Accuracy')\n",
        "plt.plot(epochs,val_acc,'g',label='Testing Accuracy')\n",
        "plt.legend()\n",
        "plt.figure()\n",
        "\n",
        "#Plot training and validation loss per epoch\n",
        "plt.plot(epochs,loss,'r',label='Training Loss')\n",
        "plt.plot(epochs,val_loss,'g',label='Testing Loss')\n",
        "plt.legend()\n",
        "plt.show()"
      ],
      "execution_count": 56,
      "outputs": [
        {
          "output_type": "display_data",
          "data": {
            "image/png": "[encoded data removed]",
            "text/plain": [
              "<Figure size 432x288 with 1 Axes>"
            ]
          },
          "metadata": {
            "tags": [],
            "needs_background": "light"
          }
        },
        {
          "output_type": "display_data",
          "data": {
            "image/png": "[encoded data removed]",
            "text/plain": [
              "<Figure size 432x288 with 1 Axes>"
            ]
          },
          "metadata": {
            "tags": [],
            "needs_background": "light"
          }
        }
      ]
    },
    {
      "cell_type": "code",
      "metadata": {
        "id": "dhpULaxfHJ39"
      },
      "source": [
        ""
      ],
      "execution_count": 56,
      "outputs": []
    },
    {
      "cell_type": "markdown",
      "metadata": {
        "id": "JUMSw_OIyuEL"
      },
      "source": [
        "# Bidirectional LONG SHORT TERM MEMORY (LSTM)"
      ]
    },
    {
      "cell_type": "code",
      "metadata": {
        "id": "ZBWCuweCHJ6j"
      },
      "source": [
        "#Building the LSTM Bi-Directional Model\n",
        "model_lstm = tf.keras.Sequential([\n",
        "    tf.keras.layers.Embedding(vocab_size, embedding_dim, input_length=max_length),\n",
        "    tf.keras.layers.Bidirectional(tf.keras.layers.LSTM(16)),\n",
        "    tf.keras.layers.Dense(6, activation='relu'),\n",
        "    tf.keras.layers.Dense(1, activation='sigmoid')\n",
        "])"
      ],
      "execution_count": 57,
      "outputs": []
    },
    {
      "cell_type": "code",
      "metadata": {
        "colab": {
          "base_uri": "https://localhost:8080/"
        },
        "id": "PhK3Imh5HJ9F",
        "outputId": "1ffcca29-5fa0-43ca-8e6e-f0d2af752f8d"
      },
      "source": [
        "model_lstm.summary()"
      ],
      "execution_count": 58,
      "outputs": [
        {
          "output_type": "stream",
          "text": [
            "Model: \"sequential_1\"\n",
            "_________________________________________________________________\n",
            "Layer (type)                 Output Shape              Param #   \n",
            "=================================================================\n",
            "embedding_1 (Embedding)      (None, 107, 16)           484400    \n",
            "_________________________________________________________________\n",
            "bidirectional_1 (Bidirection (None, 32)                4224      \n",
            "_________________________________________________________________\n",
            "dense_2 (Dense)              (None, 6)                 198       \n",
            "_________________________________________________________________\n",
            "dense_3 (Dense)              (None, 1)                 7         \n",
            "=================================================================\n",
            "Total params: 488,829\n",
            "Trainable params: 488,829\n",
            "Non-trainable params: 0\n",
            "_________________________________________________________________\n"
          ],
          "name": "stdout"
        }
      ]
    },
    {
      "cell_type": "code",
      "metadata": {
        "colab": {
          "base_uri": "https://localhost:8080/"
        },
        "id": "Ms28Fgq1zEVJ",
        "outputId": "a40c3ef8-58b0-4d48-8c7b-fcd1b5794277"
      },
      "source": [
        "model_lstm.compile(loss='binary_crossentropy',optimizer='adam',metrics=['accuracy'])\n",
        "num_epochs = 20\n",
        "batch_size=1000\n",
        "\n",
        "training_history = model_lstm.fit(X, y, epochs=num_epochs, validation_split=0.2, batch_size=batch_size)"
      ],
      "execution_count": 59,
      "outputs": [
        {
          "output_type": "stream",
          "text": [
            "Epoch 1/20\n",
            "23/23 [==============================] - 11s 305ms/step - loss: 0.6922 - accuracy: 0.5162 - val_loss: 0.6884 - val_accuracy: 0.5266\n",
            "Epoch 2/20\n",
            "23/23 [==============================] - 6s 268ms/step - loss: 0.6846 - accuracy: 0.5271 - val_loss: 0.6697 - val_accuracy: 0.5683\n",
            "Epoch 3/20\n",
            "23/23 [==============================] - 6s 265ms/step - loss: 0.6507 - accuracy: 0.6463 - val_loss: 0.6119 - val_accuracy: 0.7580\n",
            "Epoch 4/20\n",
            "23/23 [==============================] - 6s 267ms/step - loss: 0.5655 - accuracy: 0.8086 - val_loss: 0.5318 - val_accuracy: 0.7755\n",
            "Epoch 5/20\n",
            "23/23 [==============================] - 6s 265ms/step - loss: 0.4507 - accuracy: 0.8580 - val_loss: 0.4695 - val_accuracy: 0.7952\n",
            "Epoch 6/20\n",
            "23/23 [==============================] - 6s 268ms/step - loss: 0.3550 - accuracy: 0.8874 - val_loss: 0.4412 - val_accuracy: 0.7959\n",
            "Epoch 7/20\n",
            "23/23 [==============================] - 6s 265ms/step - loss: 0.2799 - accuracy: 0.9158 - val_loss: 0.4189 - val_accuracy: 0.8033\n",
            "Epoch 8/20\n",
            "23/23 [==============================] - 6s 263ms/step - loss: 0.2230 - accuracy: 0.9341 - val_loss: 0.4178 - val_accuracy: 0.8054\n",
            "Epoch 9/20\n",
            "23/23 [==============================] - 6s 264ms/step - loss: 0.1837 - accuracy: 0.9480 - val_loss: 0.4370 - val_accuracy: 0.8028\n",
            "Epoch 10/20\n",
            "23/23 [==============================] - 6s 269ms/step - loss: 0.1490 - accuracy: 0.9603 - val_loss: 0.4396 - val_accuracy: 0.8056\n",
            "Epoch 11/20\n",
            "23/23 [==============================] - 6s 265ms/step - loss: 0.1273 - accuracy: 0.9678 - val_loss: 0.4619 - val_accuracy: 0.8022\n",
            "Epoch 12/20\n",
            "23/23 [==============================] - 6s 265ms/step - loss: 0.1024 - accuracy: 0.9754 - val_loss: 0.4844 - val_accuracy: 0.7998\n",
            "Epoch 13/20\n",
            "23/23 [==============================] - 6s 267ms/step - loss: 0.0917 - accuracy: 0.9778 - val_loss: 0.5069 - val_accuracy: 0.7989\n",
            "Epoch 14/20\n",
            "23/23 [==============================] - 6s 264ms/step - loss: 0.0711 - accuracy: 0.9858 - val_loss: 0.5373 - val_accuracy: 0.7958\n",
            "Epoch 15/20\n",
            "23/23 [==============================] - 6s 268ms/step - loss: 0.0652 - accuracy: 0.9862 - val_loss: 0.5624 - val_accuracy: 0.7900\n",
            "Epoch 16/20\n",
            "23/23 [==============================] - 6s 269ms/step - loss: 0.0573 - accuracy: 0.9895 - val_loss: 0.5916 - val_accuracy: 0.7898\n",
            "Epoch 17/20\n",
            "23/23 [==============================] - 6s 266ms/step - loss: 0.0483 - accuracy: 0.9919 - val_loss: 0.6178 - val_accuracy: 0.7879\n",
            "Epoch 18/20\n",
            "23/23 [==============================] - 6s 264ms/step - loss: 0.0415 - accuracy: 0.9936 - val_loss: 0.6467 - val_accuracy: 0.7862\n",
            "Epoch 19/20\n",
            "23/23 [==============================] - 6s 266ms/step - loss: 0.0355 - accuracy: 0.9954 - val_loss: 0.6695 - val_accuracy: 0.7848\n",
            "Epoch 20/20\n",
            "23/23 [==============================] - 6s 265ms/step - loss: 0.0337 - accuracy: 0.9948 - val_loss: 0.6929 - val_accuracy: 0.7830\n"
          ],
          "name": "stdout"
        }
      ]
    },
    {
      "cell_type": "code",
      "metadata": {
        "colab": {
          "base_uri": "https://localhost:8080/",
          "height": 513
        },
        "id": "-G51t4NPzEYS",
        "outputId": "be4fde06-30fa-45d1-afc6-6d83913950fd"
      },
      "source": [
        "\n",
        "#Evaluating Accuracy and Loss of the model\n",
        "%matplotlib inline\n",
        "acc=training_history.history['accuracy']\n",
        "val_acc=training_history.history['val_accuracy']\n",
        "loss=training_history.history['loss']\n",
        "val_loss=training_history.history['val_loss']\n",
        "\n",
        "epochs=range(len(acc)) #No. of epochs\n",
        "\n",
        "#Plot training and validation accuracy per epoch\n",
        "import matplotlib.pyplot as plt\n",
        "plt.plot(epochs,acc,'r',label='Training Accuracy')\n",
        "plt.plot(epochs,val_acc,'g',label='Testing Accuracy')\n",
        "plt.legend()\n",
        "plt.figure()\n",
        "\n",
        "#Plot training and validation loss per epoch\n",
        "plt.plot(epochs,loss,'r',label='Training Loss')\n",
        "plt.plot(epochs,val_loss,'g',label='Testing Loss')\n",
        "plt.legend()\n",
        "plt.show()"
      ],
      "execution_count": 60,
      "outputs": [
        {
          "output_type": "display_data",
          "data": {
            "image/png": "[encoded data removed]",
            "text/plain": [
              "<Figure size 432x288 with 1 Axes>"
            ]
          },
          "metadata": {
            "tags": [],
            "needs_background": "light"
          }
        },
        {
          "output_type": "display_data",
          "data": {
            "image/png": "[encoded data removed]",
            "text/plain": [
              "<Figure size 432x288 with 1 Axes>"
            ]
          },
          "metadata": {
            "tags": [],
            "needs_background": "light"
          }
        }
      ]
    },
    {
      "cell_type": "code",
      "metadata": {
        "id": "p1Q36bENzEau"
      },
      "source": [
        ""
      ],
      "execution_count": 60,
      "outputs": []
    },
    {
      "cell_type": "code",
      "metadata": {
        "id": "5m63vjrwjrsu"
      },
      "source": [
        ""
      ],
      "execution_count": 60,
      "outputs": []
    }
  ]
}