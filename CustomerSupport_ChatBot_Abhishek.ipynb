{
 "cells": [
  {
   "cell_type": "code",
   "execution_count": 1,
   "metadata": {},
   "outputs": [],
   "source": [
    "#pip install nltk"
   ]
  },
  {
   "cell_type": "code",
   "execution_count": 2,
   "metadata": {},
   "outputs": [],
   "source": [
    "import nltk"
   ]
  },
  {
   "cell_type": "code",
   "execution_count": 3,
   "metadata": {},
   "outputs": [],
   "source": [
    "#nltk.download() # one time\n",
    "#nltk.download('punkt') # first-time use only\n",
    "#nltk.download('wordnet') # first-time use only"
   ]
  },
  {
   "cell_type": "code",
   "execution_count": 4,
   "metadata": {},
   "outputs": [],
   "source": [
    "import numpy as np\n",
    "import random\n",
    "import string # to process standard python strings"
   ]
  },
  {
   "cell_type": "code",
   "execution_count": 5,
   "metadata": {},
   "outputs": [],
   "source": [
    "#f=open('Sample Corpus - GL Bot.json','r',errors = 'ignore')\n",
    "#raw=f.read()\n",
    "#raw=raw.lower()# converts to lowercase"
   ]
  },
  {
   "cell_type": "code",
   "execution_count": 6,
   "metadata": {},
   "outputs": [],
   "source": [
    "#from nltk.stem.lancaster import LancasterStemmer\n",
    "#stemmer = LancasterStemmer()\n",
    "\n",
    "#from nltk.stem import WordNetLemmatizer\n",
    "#lemmatizer = WordNetLemmatizer()\n",
    "\n",
    "import numpy\n",
    "import random\n",
    "import json\n",
    "f=open('Sample Corpus - GL Bot.json','r',errors = 'ignore')\n",
    "#with open(Sample Corpus - GL Bot.json') as file:\n",
    "#    data = json.load(file)\n",
    "\n",
    "with f as file :\n",
    "    data = json.load(file)\n",
    "    "
   ]
  },
  {
   "cell_type": "code",
   "execution_count": 7,
   "metadata": {},
   "outputs": [],
   "source": [
    "data = data['intents']"
   ]
  },
  {
   "cell_type": "code",
   "execution_count": 8,
   "metadata": {},
   "outputs": [
    {
     "data": {
      "text/html": [
       "<div>\n",
       "<style scoped>\n",
       "    .dataframe tbody tr th:only-of-type {\n",
       "        vertical-align: middle;\n",
       "    }\n",
       "\n",
       "    .dataframe tbody tr th {\n",
       "        vertical-align: top;\n",
       "    }\n",
       "\n",
       "    .dataframe thead th {\n",
       "        text-align: right;\n",
       "    }\n",
       "</style>\n",
       "<table border=\"1\" class=\"dataframe\">\n",
       "  <thead>\n",
       "    <tr style=\"text-align: right;\">\n",
       "      <th></th>\n",
       "      <th>tag</th>\n",
       "      <th>patterns</th>\n",
       "      <th>responses</th>\n",
       "    </tr>\n",
       "  </thead>\n",
       "  <tbody>\n",
       "    <tr>\n",
       "      <td>0</td>\n",
       "      <td>Intro</td>\n",
       "      <td>hi</td>\n",
       "      <td>Hello! how can i help you ?</td>\n",
       "    </tr>\n",
       "    <tr>\n",
       "      <td>1</td>\n",
       "      <td>Exit</td>\n",
       "      <td>thank you</td>\n",
       "      <td>I hope I was able to assist you, Good Bye</td>\n",
       "    </tr>\n",
       "    <tr>\n",
       "      <td>2</td>\n",
       "      <td>Olympus</td>\n",
       "      <td>olympus</td>\n",
       "      <td>Link: https://www.greatlearning.in/olympus-dig...</td>\n",
       "    </tr>\n",
       "    <tr>\n",
       "      <td>3</td>\n",
       "      <td>SL</td>\n",
       "      <td>i am not able to understand svm</td>\n",
       "      <td>Link: https://olympus.greatlearning.in/courses</td>\n",
       "    </tr>\n",
       "    <tr>\n",
       "      <td>4</td>\n",
       "      <td>NN</td>\n",
       "      <td>what is deep learning</td>\n",
       "      <td>Link: https://olympus.greatlearning.in/courses</td>\n",
       "    </tr>\n",
       "    <tr>\n",
       "      <td>5</td>\n",
       "      <td>Bot</td>\n",
       "      <td>what is your name</td>\n",
       "      <td>I am your virtual learning assistant</td>\n",
       "    </tr>\n",
       "    <tr>\n",
       "      <td>6</td>\n",
       "      <td>Profane</td>\n",
       "      <td>what the hell</td>\n",
       "      <td>Please use respectful words</td>\n",
       "    </tr>\n",
       "    <tr>\n",
       "      <td>7</td>\n",
       "      <td>Ticket</td>\n",
       "      <td>my problem is not solved</td>\n",
       "      <td>Tarnsferring the request to your PM</td>\n",
       "    </tr>\n",
       "  </tbody>\n",
       "</table>\n",
       "</div>"
      ],
      "text/plain": [
       "       tag                         patterns  \\\n",
       "0    Intro                               hi   \n",
       "1     Exit                        thank you   \n",
       "2  Olympus                          olympus   \n",
       "3       SL  i am not able to understand svm   \n",
       "4       NN            what is deep learning   \n",
       "5      Bot                what is your name   \n",
       "6  Profane                    what the hell   \n",
       "7   Ticket         my problem is not solved   \n",
       "\n",
       "                                           responses  \n",
       "0                        Hello! how can i help you ?  \n",
       "1          I hope I was able to assist you, Good Bye  \n",
       "2  Link: https://www.greatlearning.in/olympus-dig...  \n",
       "3    Link: https://olympus.greatlearning.in/courses   \n",
       "4     Link: https://olympus.greatlearning.in/courses  \n",
       "5               I am your virtual learning assistant  \n",
       "6                        Please use respectful words  \n",
       "7                Tarnsferring the request to your PM  "
      ]
     },
     "execution_count": 8,
     "metadata": {},
     "output_type": "execute_result"
    }
   ],
   "source": [
    "import pandas as pd\n",
    "import numpy as np\n",
    "\n",
    "dataframe = pd.DataFrame(columns=['tag', 'patterns', 'responses'])\n",
    "for i in data:\n",
    "    intent = i['tag']\n",
    "    for t, r in zip(i['patterns'], i['responses']):\n",
    "        row = {'tag': intent, 'patterns': t, 'responses':r}\n",
    "        dataframe = dataframe.append(row, ignore_index=True)\n",
    "dataframe"
   ]
  },
  {
   "cell_type": "code",
   "execution_count": null,
   "metadata": {},
   "outputs": [],
   "source": []
  },
  {
   "cell_type": "code",
   "execution_count": 9,
   "metadata": {},
   "outputs": [],
   "source": [
    "def cosine_countvectorizer(s1, s2):\n",
    "    \n",
    "    # inputOutput to list\n",
    "    inputOutput = [s1 , s2]\n",
    "    \n",
    "    # packages\n",
    "    from sklearn.feature_extraction.text import CountVectorizer\n",
    "    from scipy.spatial import distance\n",
    "    \n",
    "    # text to vector\n",
    "    vectorizer = CountVectorizer()\n",
    "    sentencesToVector = vectorizer.fit_transform(inputOutput)\n",
    "    input1 = sentencesToVector.toarray()[0].tolist()\n",
    "    output1 = sentencesToVector.toarray()[1].tolist()\n",
    "    \n",
    "    # distance of similarity\n",
    "    cosine = distance.cosine(input1, output1)\n",
    "    return round((1-cosine),2)"
   ]
  },
  {
   "cell_type": "code",
   "execution_count": null,
   "metadata": {},
   "outputs": [],
   "source": []
  },
  {
   "cell_type": "code",
   "execution_count": 12,
   "metadata": {},
   "outputs": [],
   "source": [
    "def respond(inputText):\n",
    "    maximum = float('-inf')\n",
    "    response = \"\"\n",
    "    closest = \"\"\n",
    "    for data in dataframe.iterrows():\n",
    "        similar = cosine_countvectorizer(inputText, data[1]['patterns'])\n",
    "        if similar > maximum:\n",
    "            maximum = similar\n",
    "            response = data[1]['responses']\n",
    "            closest = data[1]['patterns']\n",
    "    return response"
   ]
  },
  {
   "cell_type": "code",
   "execution_count": null,
   "metadata": {},
   "outputs": [],
   "source": []
  },
  {
   "cell_type": "code",
   "execution_count": 13,
   "metadata": {},
   "outputs": [
    {
     "name": "stdout",
     "output_type": "stream",
     "text": [
      "Input: Hi\n",
      "Response: Hello! how can i help you ?\n",
      "Input: unable to understand NLP\n",
      "Response: Link: https://olympus.greatlearning.in/courses \n",
      "Input: exit\n",
      "Response: Exiting.....\n"
     ]
    }
   ],
   "source": [
    "while True:\n",
    "    inputText = str(input(\"Input: \"))\n",
    "    if inputText.lower() == \"exit\":\n",
    "        print(\"Response: Exiting.....\")\n",
    "        break\n",
    "    print(\"Response:\",respond(inputText))"
   ]
  },
  {
   "cell_type": "code",
   "execution_count": null,
   "metadata": {},
   "outputs": [],
   "source": []
  },
  {
   "cell_type": "code",
   "execution_count": null,
   "metadata": {},
   "outputs": [],
   "source": []
  }
 ],
 "metadata": {
  "kernelspec": {
   "display_name": "Python 3",
   "language": "python",
   "name": "python3"
  },
  "language_info": {
   "codemirror_mode": {
    "name": "ipython",
    "version": 3
   },
   "file_extension": ".py",
   "mimetype": "text/x-python",
   "name": "python",
   "nbconvert_exporter": "python",
   "pygments_lexer": "ipython3",
   "version": "3.7.4"
  }
 },
 "nbformat": 4,
 "nbformat_minor": 2
}
